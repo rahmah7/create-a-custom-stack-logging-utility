import logging
import traceback
from datetime import datetime

class StackLogger:
    """
    A utility to log stack traces and debug information to a file or the console.
    """
    def __init__(self, log_file=None, level=logging.DEBUG):
        """
        Initializes the StackLogger.

        Parameters:
        - log_file (str): Optional path to a file to save logs. If None, logs are printed to the console.
        - level (int): Logging level (e.g., logging.DEBUG, logging.INFO).
        """
        self.logger = logging.getLogger("StackLogger")
        self.logger.setLevel(level)
        formatter = logging.Formatter('%(asctime)s - %(levelname)s - %(message)s')

        if log_file:
            handler = logging.FileHandler(log_file)
        else:
            handler = logging.StreamHandler()

        handler.setFormatter(formatter)
        self.logger.addHandler(handler)

    def log_message(self, message, level=logging.INFO):
        """
        Logs a simple message.

        Parameters:
        - message (str): The message to log.
        - level (int): The logging level (e.g., logging.INFO, logging.ERROR).
        """
        self.logger.log(level, message)

    def log_stack_trace(self, exc=None):
        """
        Logs the current stack trace or the stack trace of an exception.

        Parameters:
        - exc (Exception): Optional exception object. If not provided, the current stack trace is logged.
        """
        if exc:
            trace = ''.join(traceback.format_exception(type(exc), exc, exc.__traceback__))
        else:
            trace = ''.join(traceback.format_stack())
        self.logger.error(f"Stack Trace:\n{trace}")

    def log_debug_context(self, context_info):
        """
        Logs additional debugging context.

        Parameters:
        - context_info (dict): A dictionary of context information to log.
        """
        self.logger.debug("Debugging Context:")
        for key, value in context_info.items():
            self.logger.debug(f"  {key}: {value}")


# Example usage
if __name__ == "__main__":
    # Initialize the logger
    logger = StackLogger(log_file="application.log")

    # Log a simple message
    logger.log_message("Application started.", logging.INFO)

    # Log debugging context
    debug_info = {
        "user_id": 42,
        "operation": "data_processing",
        "timestamp": str(datetime.now())
    }
    logger.log_debug_context(debug_info)

    # Simulate an error and log its stack trace
    try:
        result = 1 / 0  # This will raise a ZeroDivisionError
    except Exception as e:
        logger.log_stack_trace(e)

    logger.log_message("Application finished.", logging.INFO)
